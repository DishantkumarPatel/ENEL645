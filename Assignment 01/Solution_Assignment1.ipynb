{
 "cells": [
  {
   "cell_type": "code",
   "execution_count": 5,
   "id": "e132872f",
   "metadata": {},
   "outputs": [
    {
     "name": "stdout",
     "output_type": "stream",
     "text": [
      "[[ 0  1  2  3  4]\n",
      " [ 5  6  7  8  9]\n",
      " [10 11 12 13 14]\n",
      " [15 16 17 18 19]\n",
      " [20 21 22 23 24]\n",
      " [25 26 27 28 29]]\n",
      "[[ 0  1  2  3  4]\n",
      " [10 11 12 13 14]\n",
      " [ 5  6  7  8  9]\n",
      " [15 16 17 18 19]\n",
      " [20 21 22 23 24]\n",
      " [25 26 27 28 29]]\n",
      "Wall time: 11 ms\n"
     ]
    }
   ],
   "source": [
    "%%time\n",
    "import numpy as np\n",
    "# question 21\n",
    "\n",
    "W = np.arange(30).reshape(6,5)\n",
    "print(W)\n",
    "# Include your solution below\n",
    "W[[1, 2]] = W[[2, 1]]\n",
    "print(W)"
   ]
  },
  {
   "cell_type": "code",
   "execution_count": 7,
   "id": "1ac3484d",
   "metadata": {},
   "outputs": [
    {
     "name": "stdout",
     "output_type": "stream",
     "text": [
      "((184, 96), (399, 313))\n"
     ]
    },
    {
     "data": {
      "image/png": "[encoded data removed]",
      "text/plain": [
       "<Figure size 432x288 with 1 Axes>"
      ]
     },
     "metadata": {
      "needs_background": "light"
     },
     "output_type": "display_data"
    },
    {
     "data": {
      "image/png": "[encoded data removed]",
      "text/plain": [
       "<Figure size 432x288 with 1 Axes>"
      ]
     },
     "metadata": {
      "needs_background": "light"
     },
     "output_type": "display_data"
    },
    {
     "name": "stdout",
     "output_type": "stream",
     "text": [
      "Wall time: 1.25 s\n"
     ]
    }
   ],
   "source": [
    "%%time\n",
    "# question 22\n",
    "\n",
    "%matplotlib inline\n",
    "def bbox(img):\n",
    "#     #include your solution below\n",
    "#     a,b = np.where(img != 0) #finding the non-zero elements of the array\n",
    "#     top_left = a.min(), b.min()  #calculating the top left cordinates\n",
    "#     bottom_right = a.max(), b.max() #calculating the bottom right cordinjates\n",
    "    rows = np.any(img, axis=1)\n",
    "    cols = np.any(img, axis=0)\n",
    "    ymin, ymax = np.where(rows)[0][[0, -1]]\n",
    "    xmin, xmax = np.where(cols)[0][[0, -1]]\n",
    "    return (xmin,ymin),(xmax,ymax)\n",
    "\n",
    "\n",
    "\n",
    "from PIL import Image\n",
    "imagename='./bb.jpg'\n",
    "img = np.array(Image.open(imagename).convert('L')) > 0 #converting the image in the 2D array\n",
    "\n",
    "(r1,c1),(r2,c2)=bbox(img)\n",
    "print(bbox(img))\n",
    "import matplotlib.pyplot as plt\n",
    "import matplotlib.patches as patches\n",
    "from PIL import Image\n",
    "\n",
    "im = Image.open(imagename)\n",
    "\n",
    "# Create figure and axes\n",
    "fig, ax = plt.subplots()\n",
    "# Display the image\n",
    "ax.imshow(im)\n",
    "plt.show()\n",
    "# Create figure and axes\n",
    "fig, ax = plt.subplots()\n",
    "\n",
    "# Display the image\n",
    "ax.imshow(im)\n",
    "\n",
    "# Create a Rectangle patch\n",
    "rect = patches.Rectangle((r1,c1), r2-r1, c2-c1, linewidth=2, edgecolor='r', facecolor='none')\n",
    "\n",
    "# Add the patch to the Axes\n",
    "ax.add_patch(rect)\n",
    "\n",
    "\n",
    "plt.show()\n"
   ]
  },
  {
   "cell_type": "code",
   "execution_count": 8,
   "id": "693d61dd",
   "metadata": {},
   "outputs": [
    {
     "name": "stdout",
     "output_type": "stream",
     "text": [
      "[ 0  1  2  3  4  5  6  7  8  9 10 11 12 13 14 15 16 17 18 19 20 21 22 23\n",
      " 24]\n",
      "[2.0, 7.0, 12.0, 17.0, 22.0]\n",
      "Wall time: 998 µs\n"
     ]
    }
   ],
   "source": [
    "%%time\n",
    "# question 23\n",
    "import math\n",
    "def moving_average(x,N):\n",
    "    #define your function here\n",
    "    avg_array = []\n",
    "    counter = 0\n",
    "    sumv=0\n",
    "    for idx,val in enumerate(x):\n",
    "        sumv+=val\n",
    "        if (idx+1)%N==0:\n",
    "            avg_array.append(sumv/N)\n",
    "            sumv=0\n",
    "    return avg_array\n",
    "\n",
    "a = np.arange(30)\n",
    "N = 3\n",
    "print(a)\n",
    "print(moving_average(a,5))"
   ]
  },
  {
   "cell_type": "code",
   "execution_count": 10,
   "id": "1258c672",
   "metadata": {},
   "outputs": [
    {
     "name": "stdout",
     "output_type": "stream",
     "text": [
      "[0 2 1 1 2 0 1]\n",
      "[1, 1, 2, 3, 4, 4, 6]\n",
      "Wall time: 3 ms\n"
     ]
    }
   ],
   "source": [
    "%%time\n",
    "# quetion 24\n",
    "def generate_array(array): #generates the original array from bincount array\n",
    "    new_array = []\n",
    "    for val,count in enumerate(array):\n",
    "        new_array+=[val]*count\n",
    "    return new_array\n",
    "    \n",
    "C = np.bincount([1,1,2,3,4,4,6])\n",
    "print(C)\n",
    "result_array = generate_array(C)\n",
    "print(result_array)"
   ]
  },
  {
   "cell_type": "code",
   "execution_count": 11,
   "id": "5881de57",
   "metadata": {},
   "outputs": [
    {
     "name": "stdout",
     "output_type": "stream",
     "text": [
      "[2 4 6 1 1 9 1 5 5 6 7 3 4 8 6 7 4 0 0 1 1 5 0 9 0 0 7 9 9 2 8 0 0 1 5 9 7\n",
      " 0 8 3 3 7 6 5 8 0 5 0 4 9]\n",
      "0\n",
      "Wall time: 1 ms\n"
     ]
    }
   ],
   "source": [
    "%%time\n",
    "# question 25\n",
    "\n",
    "# generate an array of 50 elements in the range of [0,10]\n",
    "Z = np.random.randint(0,10,50)\n",
    "print(Z)\n",
    "#count the number of occurances of each value in array\n",
    "freq = np.bincount(Z) \n",
    "# find the value with the maximum occurances\n",
    "freq_max = np.argmax(freq) \n",
    "# print the obtained result\n",
    "print(freq_max)"
   ]
  },
  {
   "cell_type": "code",
   "execution_count": null,
   "id": "e0819a00",
   "metadata": {},
   "outputs": [],
   "source": []
  }
 ],
 "metadata": {
  "kernelspec": {
   "display_name": "Python 3 (ipykernel)",
   "language": "python",
   "name": "python3"
  },
  "language_info": {
   "codemirror_mode": {
    "name": "ipython",
    "version": 3
   },
   "file_extension": ".py",
   "mimetype": "text/x-python",
   "name": "python",
   "nbconvert_exporter": "python",
   "pygments_lexer": "ipython3",
   "version": "3.9.7"
  }
 },
 "nbformat": 4,
 "nbformat_minor": 5
}
